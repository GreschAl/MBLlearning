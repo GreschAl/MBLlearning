{
 "cells": [
  {
   "cell_type": "code",
   "execution_count": null,
   "metadata": {},
   "outputs": [],
   "source": [
    "import numpy as np\n",
    "import matplotlib.pyplot as plt\n",
    "plt.rcParams.update({\n",
    "    \"text.usetex\": True })\n",
    "plt.rc('font', family='serif')\n",
    "%matplotlib inline"
   ]
  },
  {
   "cell_type": "code",
   "execution_count": null,
   "metadata": {},
   "outputs": [],
   "source": [
    "import torch\n",
    "from torch.utils.data import DataLoader"
   ]
  },
  {
   "cell_type": "code",
   "execution_count": null,
   "metadata": {},
   "outputs": [],
   "source": [
    "from MBLlearning.global_config import get_config\n",
    "import MBLlearning.utils.toy_model as tm\n",
    "DTYPE, DEVICE = get_config()\n",
    "print(\"Using device:\",DEVICE)"
   ]
  },
  {
   "cell_type": "code",
   "execution_count": null,
   "metadata": {},
   "outputs": [],
   "source": [
    "model_filename = \"trained_models/toy_model.pt\"\n",
    "\n",
    "retrain_model = False\n",
    "\n",
    "save_file = None #\"plots_paper/toy_model.pdf\""
   ]
  },
  {
   "cell_type": "code",
   "execution_count": null,
   "metadata": {},
   "outputs": [],
   "source": [
    "model = tm.GRUnetSimple(2,2,20).to(device=DEVICE,dtype=DTYPE)\n",
    "data = tm.VarianceDataset([10,12,14,16,18,20],np.arange(0.5,15.5,0.5),1000,2)\n",
    "dataloader = DataLoader(data,batch_size=32,shuffle=True)"
   ]
  },
  {
   "cell_type": "code",
   "execution_count": null,
   "metadata": {},
   "outputs": [],
   "source": [
    "if retrain_model:\n",
    "    print(\"Retraining model from scratch ...\")\n",
    "    model, loss = tm.train_simple(model,dataloader,learning_rate=1e-1)\n",
    "    print(\"Retraining finished, saving to file.\")\n",
    "    torch.save(model.state_dict(), model_filename)\n",
    "else:\n",
    "    print(\"Trying to load model from file ...\")\n",
    "    try:\n",
    "        model.load_state_dict(torch.load(model_filename,map_location=DEVICE))\n",
    "    except:\n",
    "        print(\"File not found, training the model ...\")\n",
    "        model, loss = tm.train_simple(model,dataloader,learning_rate=1e-1)\n",
    "        print(\"Training finished, saving to file.\")\n",
    "        torch.save(model.state_dict(), model_filename)\n",
    "    else:\n",
    "        print(\"Model loaded from file.\")"
   ]
  },
  {
   "cell_type": "code",
   "execution_count": null,
   "metadata": {},
   "outputs": [],
   "source": [
    "testdata = tm.VarianceDataset([10,16,22,26,30],np.arange(0.5,15.5,0.5),1000,2)"
   ]
  },
  {
   "cell_type": "code",
   "execution_count": null,
   "metadata": {},
   "outputs": [],
   "source": [
    "means,mses = tm.eval_model(model,testdata)"
   ]
  },
  {
   "cell_type": "code",
   "execution_count": null,
   "metadata": {},
   "outputs": [],
   "source": [
    "plt.figure(figsize=(8,6))\n",
    "\n",
    "var = (testdata.h/max(testdata.h))**2/3\n",
    "for i,(key,diff) in enumerate(zip([\"Residual $h$-value\",\n",
    "                                   \"Res. variance $[\\\\times 10^{-2}]$\"],[testdata.h,var])):\n",
    "    ax = plt.subplot(221+i)\n",
    "    for L,mean in zip(testdata.L_vals,means):\n",
    "        plt.plot(testdata.h,mean[:,i]-diff,label=\"L = {}\".format(L))\n",
    "    plt.ylabel(key,fontsize=\"x-large\")\n",
    "    plt.hlines(0,0,15,colors=\"k\",linestyles=\"dashed\")\n",
    "    if i==1:\n",
    "        #plt.legend(fontsize=\"x-large\")\n",
    "        # set right yticks to right side\n",
    "        plt.gca().yaxis.set_label_position(\"right\")\n",
    "        plt.gca().yaxis.set_ticks_position(\"right\")\n",
    "        plt.yticks(np.arange(-6,3,2)/100,np.arange(-6,3,2),fontsize=\"x-large\")\n",
    "    else:\n",
    "        plt.yticks(fontsize=\"x-large\")\n",
    "    plt.xticks(np.arange(0,16,2.5),[])\n",
    "    plt.grid()\n",
    "    \n",
    "for i,key in enumerate([\"MSE[$h$-value]\",\"MSE[Var] $[\\\\times 10^{-3}]$\"]):\n",
    "    ax = plt.subplot(223+i)\n",
    "    for L,mse in zip(testdata.L_vals,mses):\n",
    "        plt.plot(testdata.h,mse[:,i],label=\"L = {}\".format(L))\n",
    "    plt.ylabel(key,fontsize=\"x-large\")\n",
    "    if i==1:\n",
    "        plt.legend(fontsize=\"x-large\")\n",
    "        # set right yticks to right side\n",
    "        plt.gca().yaxis.set_label_position(\"right\")\n",
    "        plt.gca().yaxis.set_ticks_position(\"right\")\n",
    "        plt.yticks(np.arange(0,11,2)/1000,np.arange(0,11,2),fontsize=\"x-large\")\n",
    "    else:\n",
    "        plt.yticks(fontsize=\"x-large\")\n",
    "    plt.xticks(np.arange(0,16,2.5),np.arange(0,16,2.5),fontsize=\"x-large\")\n",
    "    plt.grid()\n",
    "plt.text(-0.1,-0.2,\"Disorder parameter $h$\",fontsize=\"xx-large\",\n",
    "                     horizontalalignment='center',verticalalignment='center', transform=ax.transAxes)\n",
    "plt.subplots_adjust(wspace=0.1,hspace=0.05)\n",
    "if save_file is not None:\n",
    "    plt.savefig(save_file,orientation=\"landscape\",dpi=600,bbox_inches=\"tight\")\n",
    "plt.show()"
   ]
  },
  {
   "cell_type": "code",
   "execution_count": null,
   "metadata": {},
   "outputs": [],
   "source": []
  },
  {
   "cell_type": "code",
   "execution_count": null,
   "metadata": {},
   "outputs": [],
   "source": []
  }
 ],
 "metadata": {
  "kernelspec": {
   "display_name": "Python 3",
   "language": "python",
   "name": "python3"
  },
  "language_info": {
   "codemirror_mode": {
    "name": "ipython",
    "version": 3
   },
   "file_extension": ".py",
   "mimetype": "text/x-python",
   "name": "python",
   "nbconvert_exporter": "python",
   "pygments_lexer": "ipython3",
   "version": "3.8.10"
  }
 },
 "nbformat": 4,
 "nbformat_minor": 4
}
